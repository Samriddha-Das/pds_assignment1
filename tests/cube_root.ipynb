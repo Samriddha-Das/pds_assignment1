{
 "cells": [
  {
   "cell_type": "code",
   "execution_count": 1,
   "metadata": {},
   "outputs": [],
   "source": [
    "# /**\n",
    "#  * @author Vinay Ummadi\n",
    "#  * @email ummadi.vinay2000@gmail.com\n",
    "#  * @create date 2022-08-26 14:57:38\n",
    "#  * @modify date 2022-08-26 14:57:38\n",
    "#  * @desc [description]\n",
    "#  */\n",
    "# Actual code starts below this line\n",
    "# --------------------------------------------------------------\n",
    "\n",
    "\n",
    "def find_cube_root(num : int) -> int:\n",
    "    \"\"\"\n",
    "    This function finds the cube root of a number\n",
    "    Input : num\n",
    "    Output : Your function should return the cube root of the given number\n",
    "    \"\"\"\n",
    "    # Write your code here\n",
    "    cube_root=int(num**1/3)\n",
    "    return cube_root"
   ]
  },
  {
   "cell_type": "code",
   "execution_count": null,
   "metadata": {},
   "outputs": [],
   "source": []
  }
 ],
 "metadata": {
  "kernelspec": {
   "display_name": "Python 3.8.6 64-bit",
   "language": "python",
   "name": "python3"
  },
  "language_info": {
   "codemirror_mode": {
    "name": "ipython",
    "version": 3
   },
   "file_extension": ".py",
   "mimetype": "text/x-python",
   "name": "python",
   "nbconvert_exporter": "python",
   "pygments_lexer": "ipython3",
   "version": "3.8.6"
  },
  "orig_nbformat": 4,
  "vscode": {
   "interpreter": {
    "hash": "60eb80cb61658e8d024621773c31cde7362343124eec692cef45823ab5ac676e"
   }
  }
 },
 "nbformat": 4,
 "nbformat_minor": 2
}
